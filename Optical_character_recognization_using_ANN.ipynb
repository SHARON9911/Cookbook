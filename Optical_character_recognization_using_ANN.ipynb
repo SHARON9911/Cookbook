{
  "nbformat": 4,
  "nbformat_minor": 0,
  "metadata": {
    "colab": {
      "name": "Optical character recognization using ANN.ipynb",
      "provenance": [],
      "collapsed_sections": [],
      "include_colab_link": true
    },
    "kernelspec": {
      "name": "python3",
      "display_name": "Python 3"
    },
    "language_info": {
      "name": "python"
    }
  },
  "cells": [
    {
      "cell_type": "markdown",
      "metadata": {
        "id": "view-in-github",
        "colab_type": "text"
      },
      "source": [
        "<a href=\"https://colab.research.google.com/github/SHARON9911/Cookbook/blob/master/Optical_character_recognization_using_ANN.ipynb\" target=\"_parent\"><img src=\"https://colab.research.google.com/assets/colab-badge.svg\" alt=\"Open In Colab\"/></a>"
      ]
    },
    {
      "cell_type": "markdown",
      "source": [
        ""
      ],
      "metadata": {
        "id": "3ZngBqQqifUV"
      }
    },
    {
      "cell_type": "markdown",
      "source": [
        "# **Importing Keras and Tensorflow library and mnist dataset**"
      ],
      "metadata": {
        "id": "ksR2eawjifLT"
      }
    },
    {
      "cell_type": "code",
      "metadata": {
        "id": "48XSE-yey8GS"
      },
      "source": [
        "from tensorflow.keras.datasets import mnist"
      ],
      "execution_count": 1,
      "outputs": []
    },
    {
      "cell_type": "markdown",
      "source": [
        "# **Splitting the data into training and testing dataset**"
      ],
      "metadata": {
        "id": "AViamGCSicg5"
      }
    },
    {
      "cell_type": "code",
      "metadata": {
        "colab": {
          "base_uri": "https://localhost:8080/"
        },
        "id": "NZzSKxGUA1LB",
        "outputId": "64a0256d-5d9a-49e2-8676-cafcbb3ade66"
      },
      "source": [
        "(x_train,y_train),(x_test,y_test)=mnist.load_data()"
      ],
      "execution_count": null,
      "outputs": [
        {
          "output_type": "stream",
          "name": "stdout",
          "text": [
            "Downloading data from https://storage.googleapis.com/tensorflow/tf-keras-datasets/mnist.npz\n",
            "11493376/11490434 [==============================] - 0s 0us/step\n",
            "11501568/11490434 [==============================] - 0s 0us/step\n"
          ]
        }
      ]
    },
    {
      "cell_type": "code",
      "metadata": {
        "colab": {
          "base_uri": "https://localhost:8080/"
        },
        "id": "8EnQR_0KBLy-",
        "outputId": "f03fe992-8de0-47e6-b0f9-1b935126c909"
      },
      "source": [
        "x_train.shape"
      ],
      "execution_count": null,
      "outputs": [
        {
          "output_type": "execute_result",
          "data": {
            "text/plain": [
              "(60000, 28, 28)"
            ]
          },
          "metadata": {},
          "execution_count": 3
        }
      ]
    },
    {
      "cell_type": "code",
      "metadata": {
        "id": "Q3bkxPtmBlxX"
      },
      "source": [
        "X_train=x_train.reshape(60000,784)\n",
        "X_test=x_test.reshape(10000,784)"
      ],
      "execution_count": null,
      "outputs": []
    },
    {
      "cell_type": "code",
      "metadata": {
        "id": "bfqJ9q3aB2Rx"
      },
      "source": [
        "from tensorflow.keras.utils import to_categorical"
      ],
      "execution_count": null,
      "outputs": []
    },
    {
      "cell_type": "code",
      "metadata": {
        "id": "ShlOWbm5Cu-p"
      },
      "source": [
        "y_train=to_categorical(y_train,num_classes=10)\n",
        "y_test=to_categorical(y_test,num_classes=10)"
      ],
      "execution_count": null,
      "outputs": []
    },
    {
      "cell_type": "code",
      "metadata": {
        "id": "Ci12T948DGX7"
      },
      "source": [
        "X_train=X_train/255\n",
        "X_test=X_test/255"
      ],
      "execution_count": null,
      "outputs": []
    },
    {
      "cell_type": "markdown",
      "source": [
        "# **Importing sequential model from keras**\n",
        "Sequantial model takes a single input and gives a single output"
      ],
      "metadata": {
        "id": "rYDod17Qian9"
      }
    },
    {
      "cell_type": "code",
      "metadata": {
        "id": "_somDkSmDrPh"
      },
      "source": [
        "from tensorflow.keras.models import Sequential\n",
        "from tensorflow.keras.layers import Dense"
      ],
      "execution_count": null,
      "outputs": []
    },
    {
      "cell_type": "markdown",
      "source": [
        "# **Here we are using 3 layers and 2 activation function**\n",
        "1)Relu- returns 0 if the function is 0 otherwise returns the original value of the function\n",
        "\n",
        "2) softmax-Softmax is an activation function that scales numbers/logits into probabilities"
      ],
      "metadata": {
        "id": "bz4hAyzAmmnO"
      }
    },
    {
      "cell_type": "code",
      "metadata": {
        "id": "xLMFxR9MEA02"
      },
      "source": [
        "model=Sequential()\n",
        "model.add(Dense(50,activation='relu',input_shape=(784,)))\n",
        "model.add(Dense(50,activation='relu'))\n",
        "model.add(Dense(10,activation='softmax'))"
      ],
      "execution_count": null,
      "outputs": []
    },
    {
      "cell_type": "code",
      "metadata": {
        "colab": {
          "base_uri": "https://localhost:8080/"
        },
        "id": "Tq-tQGIIFxn7",
        "outputId": "21771bf5-3596-446d-a7e5-b82eb6b0f0d2"
      },
      "source": [
        "model.summary()"
      ],
      "execution_count": null,
      "outputs": [
        {
          "output_type": "stream",
          "name": "stdout",
          "text": [
            "Model: \"sequential_1\"\n",
            "_________________________________________________________________\n",
            " Layer (type)                Output Shape              Param #   \n",
            "=================================================================\n",
            " dense_3 (Dense)             (None, 50)                39250     \n",
            "                                                                 \n",
            " dense_4 (Dense)             (None, 50)                2550      \n",
            "                                                                 \n",
            " dense_5 (Dense)             (None, 10)                510       \n",
            "                                                                 \n",
            "=================================================================\n",
            "Total params: 42,310\n",
            "Trainable params: 42,310\n",
            "Non-trainable params: 0\n",
            "_________________________________________________________________\n"
          ]
        }
      ]
    },
    {
      "cell_type": "markdown",
      "source": [
        "#**Loss function - categorical_crossentrophy, metrics- accuracy**"
      ],
      "metadata": {
        "id": "9CdWLocZptXE"
      }
    },
    {
      "cell_type": "code",
      "metadata": {
        "id": "PesZveGWG0pV"
      },
      "source": [
        "model.compile(loss='categorical_crossentropy',metrics=['accuracy'])"
      ],
      "execution_count": null,
      "outputs": []
    },
    {
      "cell_type": "markdown",
      "source": [
        "# **Calling model.fit method to train the model**\n",
        "# **Taking epoch = 20**\n"
      ],
      "metadata": {
        "id": "8EmQFxlOJq5d"
      }
    },
    {
      "cell_type": "code",
      "metadata": {
        "colab": {
          "base_uri": "https://localhost:8080/"
        },
        "id": "YdLgiKWoHY11",
        "outputId": "c9f1a599-ef21-4487-b64d-b9413f2c5b0c"
      },
      "source": [
        "model.fit(X_train,y_train,batch_size=64,epochs=50,validation_data=(X_test,y_test))"
      ],
      "execution_count": null,
      "outputs": [
        {
          "output_type": "stream",
          "name": "stdout",
          "text": [
            "Epoch 1/50\n",
            "938/938 [==============================] - 5s 6ms/step - loss: 0.0207 - accuracy: 0.9937 - val_loss: 0.1376 - val_accuracy: 0.9726\n",
            "Epoch 2/50\n",
            "938/938 [==============================] - 5s 5ms/step - loss: 0.0188 - accuracy: 0.9942 - val_loss: 0.1427 - val_accuracy: 0.9727\n",
            "Epoch 3/50\n",
            "938/938 [==============================] - 3s 3ms/step - loss: 0.0192 - accuracy: 0.9941 - val_loss: 0.1391 - val_accuracy: 0.9733\n",
            "Epoch 4/50\n",
            "938/938 [==============================] - 3s 3ms/step - loss: 0.0174 - accuracy: 0.9947 - val_loss: 0.1505 - val_accuracy: 0.9709\n",
            "Epoch 5/50\n",
            "938/938 [==============================] - 3s 3ms/step - loss: 0.0159 - accuracy: 0.9952 - val_loss: 0.1459 - val_accuracy: 0.9722\n",
            "Epoch 6/50\n",
            "938/938 [==============================] - 3s 3ms/step - loss: 0.0138 - accuracy: 0.9957 - val_loss: 0.1583 - val_accuracy: 0.9720\n",
            "Epoch 7/50\n",
            "938/938 [==============================] - 3s 3ms/step - loss: 0.0137 - accuracy: 0.9956 - val_loss: 0.1778 - val_accuracy: 0.9712\n",
            "Epoch 8/50\n",
            "938/938 [==============================] - 3s 3ms/step - loss: 0.0131 - accuracy: 0.9956 - val_loss: 0.1588 - val_accuracy: 0.9725\n",
            "Epoch 9/50\n",
            "938/938 [==============================] - 3s 3ms/step - loss: 0.0122 - accuracy: 0.9962 - val_loss: 0.1773 - val_accuracy: 0.9701\n",
            "Epoch 10/50\n",
            "938/938 [==============================] - 3s 3ms/step - loss: 0.0112 - accuracy: 0.9965 - val_loss: 0.1857 - val_accuracy: 0.9694\n",
            "Epoch 11/50\n",
            "938/938 [==============================] - 3s 3ms/step - loss: 0.0100 - accuracy: 0.9969 - val_loss: 0.1702 - val_accuracy: 0.9731\n",
            "Epoch 12/50\n",
            "938/938 [==============================] - 3s 3ms/step - loss: 0.0105 - accuracy: 0.9968 - val_loss: 0.1882 - val_accuracy: 0.9716\n",
            "Epoch 13/50\n",
            "938/938 [==============================] - 3s 3ms/step - loss: 0.0089 - accuracy: 0.9972 - val_loss: 0.1808 - val_accuracy: 0.9719\n",
            "Epoch 14/50\n",
            "938/938 [==============================] - 3s 3ms/step - loss: 0.0084 - accuracy: 0.9973 - val_loss: 0.1832 - val_accuracy: 0.9718\n",
            "Epoch 15/50\n",
            "938/938 [==============================] - 3s 3ms/step - loss: 0.0075 - accuracy: 0.9975 - val_loss: 0.1876 - val_accuracy: 0.9739\n",
            "Epoch 16/50\n",
            "938/938 [==============================] - 3s 3ms/step - loss: 0.0070 - accuracy: 0.9979 - val_loss: 0.1894 - val_accuracy: 0.9733\n",
            "Epoch 17/50\n",
            "938/938 [==============================] - 3s 3ms/step - loss: 0.0077 - accuracy: 0.9975 - val_loss: 0.1992 - val_accuracy: 0.9712\n",
            "Epoch 18/50\n",
            "938/938 [==============================] - 3s 3ms/step - loss: 0.0064 - accuracy: 0.9979 - val_loss: 0.2102 - val_accuracy: 0.9708\n",
            "Epoch 19/50\n",
            "938/938 [==============================] - 3s 3ms/step - loss: 0.0066 - accuracy: 0.9976 - val_loss: 0.2324 - val_accuracy: 0.9721\n",
            "Epoch 20/50\n",
            "938/938 [==============================] - 3s 3ms/step - loss: 0.0056 - accuracy: 0.9982 - val_loss: 0.2291 - val_accuracy: 0.9705\n",
            "Epoch 21/50\n",
            "938/938 [==============================] - 3s 3ms/step - loss: 0.0052 - accuracy: 0.9983 - val_loss: 0.2156 - val_accuracy: 0.9718\n",
            "Epoch 22/50\n",
            "938/938 [==============================] - 3s 3ms/step - loss: 0.0060 - accuracy: 0.9979 - val_loss: 0.2181 - val_accuracy: 0.9716\n",
            "Epoch 23/50\n",
            "938/938 [==============================] - 3s 3ms/step - loss: 0.0043 - accuracy: 0.9985 - val_loss: 0.2288 - val_accuracy: 0.9714\n",
            "Epoch 24/50\n",
            "938/938 [==============================] - 3s 3ms/step - loss: 0.0041 - accuracy: 0.9987 - val_loss: 0.2441 - val_accuracy: 0.9703\n",
            "Epoch 25/50\n",
            "938/938 [==============================] - 3s 3ms/step - loss: 0.0043 - accuracy: 0.9985 - val_loss: 0.2267 - val_accuracy: 0.9717\n",
            "Epoch 26/50\n",
            "938/938 [==============================] - 3s 3ms/step - loss: 0.0046 - accuracy: 0.9985 - val_loss: 0.2416 - val_accuracy: 0.9703\n",
            "Epoch 27/50\n",
            "938/938 [==============================] - 3s 3ms/step - loss: 0.0040 - accuracy: 0.9987 - val_loss: 0.2422 - val_accuracy: 0.9722\n",
            "Epoch 28/50\n",
            "938/938 [==============================] - 3s 3ms/step - loss: 0.0034 - accuracy: 0.9989 - val_loss: 0.2661 - val_accuracy: 0.9685\n",
            "Epoch 29/50\n",
            "938/938 [==============================] - 3s 3ms/step - loss: 0.0032 - accuracy: 0.9988 - val_loss: 0.2605 - val_accuracy: 0.9712\n",
            "Epoch 30/50\n",
            "938/938 [==============================] - 3s 3ms/step - loss: 0.0037 - accuracy: 0.9986 - val_loss: 0.2701 - val_accuracy: 0.9713\n",
            "Epoch 31/50\n",
            "938/938 [==============================] - 3s 3ms/step - loss: 0.0030 - accuracy: 0.9991 - val_loss: 0.2763 - val_accuracy: 0.9711\n",
            "Epoch 32/50\n",
            "938/938 [==============================] - 3s 3ms/step - loss: 0.0029 - accuracy: 0.9989 - val_loss: 0.2770 - val_accuracy: 0.9721\n",
            "Epoch 33/50\n",
            "938/938 [==============================] - 3s 3ms/step - loss: 0.0032 - accuracy: 0.9989 - val_loss: 0.2674 - val_accuracy: 0.9712\n",
            "Epoch 34/50\n",
            "938/938 [==============================] - 3s 3ms/step - loss: 0.0027 - accuracy: 0.9990 - val_loss: 0.2729 - val_accuracy: 0.9727\n",
            "Epoch 35/50\n",
            "938/938 [==============================] - 3s 3ms/step - loss: 0.0024 - accuracy: 0.9992 - val_loss: 0.2898 - val_accuracy: 0.9702\n",
            "Epoch 36/50\n",
            "938/938 [==============================] - 3s 3ms/step - loss: 0.0030 - accuracy: 0.9991 - val_loss: 0.2899 - val_accuracy: 0.9714\n",
            "Epoch 37/50\n",
            "938/938 [==============================] - 3s 3ms/step - loss: 0.0025 - accuracy: 0.9992 - val_loss: 0.2879 - val_accuracy: 0.9713\n",
            "Epoch 38/50\n",
            "938/938 [==============================] - 3s 3ms/step - loss: 0.0021 - accuracy: 0.9994 - val_loss: 0.2810 - val_accuracy: 0.9724\n",
            "Epoch 39/50\n",
            "938/938 [==============================] - 3s 3ms/step - loss: 0.0025 - accuracy: 0.9991 - val_loss: 0.3018 - val_accuracy: 0.9715\n",
            "Epoch 40/50\n",
            "938/938 [==============================] - 3s 3ms/step - loss: 0.0028 - accuracy: 0.9990 - val_loss: 0.3029 - val_accuracy: 0.9716\n",
            "Epoch 41/50\n",
            "938/938 [==============================] - 3s 3ms/step - loss: 0.0024 - accuracy: 0.9991 - val_loss: 0.3051 - val_accuracy: 0.9706\n",
            "Epoch 42/50\n",
            "938/938 [==============================] - 3s 3ms/step - loss: 0.0025 - accuracy: 0.9991 - val_loss: 0.3235 - val_accuracy: 0.9698\n",
            "Epoch 43/50\n",
            "938/938 [==============================] - 3s 3ms/step - loss: 0.0021 - accuracy: 0.9992 - val_loss: 0.3216 - val_accuracy: 0.9703\n",
            "Epoch 44/50\n",
            "938/938 [==============================] - 3s 3ms/step - loss: 0.0025 - accuracy: 0.9992 - val_loss: 0.3215 - val_accuracy: 0.9719\n",
            "Epoch 45/50\n",
            "938/938 [==============================] - 3s 3ms/step - loss: 0.0014 - accuracy: 0.9997 - val_loss: 0.3188 - val_accuracy: 0.9720\n",
            "Epoch 46/50\n",
            "938/938 [==============================] - 3s 3ms/step - loss: 0.0018 - accuracy: 0.9994 - val_loss: 0.3250 - val_accuracy: 0.9721\n",
            "Epoch 47/50\n",
            "938/938 [==============================] - 3s 3ms/step - loss: 0.0021 - accuracy: 0.9993 - val_loss: 0.3355 - val_accuracy: 0.9713\n",
            "Epoch 48/50\n",
            "938/938 [==============================] - 3s 3ms/step - loss: 0.0019 - accuracy: 0.9995 - val_loss: 0.3395 - val_accuracy: 0.9708\n",
            "Epoch 49/50\n",
            "938/938 [==============================] - 3s 3ms/step - loss: 0.0018 - accuracy: 0.9994 - val_loss: 0.3610 - val_accuracy: 0.9692\n",
            "Epoch 50/50\n",
            "938/938 [==============================] - 3s 3ms/step - loss: 0.0017 - accuracy: 0.9995 - val_loss: 0.3466 - val_accuracy: 0.9701\n"
          ]
        },
        {
          "output_type": "execute_result",
          "data": {
            "text/plain": [
              "<keras.callbacks.History at 0x7f3ee50c1f10>"
            ]
          },
          "metadata": {},
          "execution_count": 16
        }
      ]
    },
    {
      "cell_type": "code",
      "metadata": {
        "id": "t2QlmDENIb88"
      },
      "source": [
        "import numpy as np"
      ],
      "execution_count": null,
      "outputs": []
    },
    {
      "cell_type": "code",
      "metadata": {
        "colab": {
          "base_uri": "https://localhost:8080/"
        },
        "id": "Sg8aD3QAJDhH",
        "outputId": "7521605f-56ea-4831-ab28-efb81f67a078"
      },
      "source": [
        "X_train"
      ],
      "execution_count": null,
      "outputs": [
        {
          "output_type": "execute_result",
          "data": {
            "text/plain": [
              "array([[0., 0., 0., ..., 0., 0., 0.],\n",
              "       [0., 0., 0., ..., 0., 0., 0.],\n",
              "       [0., 0., 0., ..., 0., 0., 0.],\n",
              "       ...,\n",
              "       [0., 0., 0., ..., 0., 0., 0.],\n",
              "       [0., 0., 0., ..., 0., 0., 0.],\n",
              "       [0., 0., 0., ..., 0., 0., 0.]])"
            ]
          },
          "metadata": {},
          "execution_count": 18
        }
      ]
    },
    {
      "cell_type": "code",
      "metadata": {
        "colab": {
          "base_uri": "https://localhost:8080/"
        },
        "id": "iQKv1ca-JLK_",
        "outputId": "06b01b8e-8647-4248-dade-350781f56609"
      },
      "source": [
        "y_train[:5,:]"
      ],
      "execution_count": null,
      "outputs": [
        {
          "output_type": "execute_result",
          "data": {
            "text/plain": [
              "array([[0., 0., 0., 0., 0., 1., 0., 0., 0., 0.],\n",
              "       [1., 0., 0., 0., 0., 0., 0., 0., 0., 0.],\n",
              "       [0., 0., 0., 0., 1., 0., 0., 0., 0., 0.],\n",
              "       [0., 1., 0., 0., 0., 0., 0., 0., 0., 0.],\n",
              "       [0., 0., 0., 0., 0., 0., 0., 0., 0., 1.]], dtype=float32)"
            ]
          },
          "metadata": {},
          "execution_count": 19
        }
      ]
    },
    {
      "cell_type": "code",
      "metadata": {
        "id": "Aefs5BVWJ2uI"
      },
      "source": [
        "img0 = np.array(X_train[0]).reshape(1,784)"
      ],
      "execution_count": null,
      "outputs": []
    },
    {
      "cell_type": "code",
      "metadata": {
        "colab": {
          "base_uri": "https://localhost:8080/"
        },
        "id": "tIizT9ORKHJQ",
        "outputId": "95c6a063-1a53-41d5-cd78-9e13132524fe"
      },
      "source": [
        "model.predict(img0).argmax()"
      ],
      "execution_count": null,
      "outputs": [
        {
          "output_type": "execute_result",
          "data": {
            "text/plain": [
              "5"
            ]
          },
          "metadata": {},
          "execution_count": 21
        }
      ]
    },
    {
      "cell_type": "code",
      "metadata": {
        "colab": {
          "base_uri": "https://localhost:8080/"
        },
        "id": "jSL1tw5EKP5N",
        "outputId": "6b7b55c7-e5dc-4414-8281-a01497f2e17d"
      },
      "source": [
        "y_train[0].argmax()"
      ],
      "execution_count": null,
      "outputs": [
        {
          "output_type": "execute_result",
          "data": {
            "text/plain": [
              "5"
            ]
          },
          "metadata": {},
          "execution_count": 22
        }
      ]
    },
    {
      "cell_type": "code",
      "metadata": {
        "id": "TU2H7sd4KecE"
      },
      "source": [
        "def recognise(img):\n",
        "  img=np.array(img).reshape(1,784)\n",
        "  return model.predict(img).argmax()"
      ],
      "execution_count": null,
      "outputs": []
    },
    {
      "cell_type": "code",
      "metadata": {
        "id": "t0voYT5EKrnX"
      },
      "source": [
        "y_pre=model.predict(X_test).argmax(axis=1)"
      ],
      "execution_count": null,
      "outputs": []
    },
    {
      "cell_type": "code",
      "metadata": {
        "colab": {
          "base_uri": "https://localhost:8080/"
        },
        "id": "0D-qAtA8K4BT",
        "outputId": "a08f46d3-a6bb-4d34-e2c8-764e98c1ab9e"
      },
      "source": [
        "y_pre"
      ],
      "execution_count": null,
      "outputs": [
        {
          "output_type": "execute_result",
          "data": {
            "text/plain": [
              "array([7, 2, 1, ..., 4, 5, 6])"
            ]
          },
          "metadata": {},
          "execution_count": 25
        }
      ]
    },
    {
      "cell_type": "code",
      "metadata": {
        "colab": {
          "base_uri": "https://localhost:8080/"
        },
        "id": "Udwxkie_K9pQ",
        "outputId": "465612fc-efc0-4d1c-c918-dc5f1429dcb5"
      },
      "source": [
        "len(y_pre)"
      ],
      "execution_count": null,
      "outputs": [
        {
          "output_type": "execute_result",
          "data": {
            "text/plain": [
              "10000"
            ]
          },
          "metadata": {},
          "execution_count": 26
        }
      ]
    },
    {
      "cell_type": "code",
      "metadata": {
        "colab": {
          "base_uri": "https://localhost:8080/"
        },
        "id": "vaEycARNLCVr",
        "outputId": "7ab700ba-16ed-4072-c651-1df6ff4a4f2a"
      },
      "source": [
        "y_test.argmax(axis=1)"
      ],
      "execution_count": null,
      "outputs": [
        {
          "output_type": "execute_result",
          "data": {
            "text/plain": [
              "array([7, 2, 1, ..., 4, 5, 6])"
            ]
          },
          "metadata": {},
          "execution_count": 27
        }
      ]
    },
    {
      "cell_type": "code",
      "metadata": {
        "colab": {
          "base_uri": "https://localhost:8080/"
        },
        "id": "bUQ0SeBpLKq-",
        "outputId": "f59dbc9d-9e83-4cb5-c3b1-99cbe9721a73"
      },
      "source": [
        "sum(y_pre==y_test.argmax(axis=1))"
      ],
      "execution_count": null,
      "outputs": [
        {
          "output_type": "execute_result",
          "data": {
            "text/plain": [
              "9701"
            ]
          },
          "metadata": {},
          "execution_count": 28
        }
      ]
    },
    {
      "cell_type": "code",
      "metadata": {
        "colab": {
          "base_uri": "https://localhost:8080/"
        },
        "id": "fWYel6POL6kr",
        "outputId": "848715e4-dc20-474f-85f6-17da221d11ea"
      },
      "source": [
        "9737/10000"
      ],
      "execution_count": null,
      "outputs": [
        {
          "output_type": "execute_result",
          "data": {
            "text/plain": [
              "0.9737"
            ]
          },
          "metadata": {},
          "execution_count": 29
        }
      ]
    },
    {
      "cell_type": "code",
      "metadata": {
        "id": "N_zBzb4bL_Au"
      },
      "source": [
        "import matplotlib.pyplot as plt"
      ],
      "execution_count": null,
      "outputs": []
    },
    {
      "cell_type": "code",
      "metadata": {
        "colab": {
          "base_uri": "https://localhost:8080/",
          "height": 282
        },
        "id": "tLcBaS9rMKZp",
        "outputId": "9ddef780-c123-49bc-f250-f6d582fd0012"
      },
      "source": [
        "plt.imshow(np.array(X_test[389]).reshape(28,28))"
      ],
      "execution_count": null,
      "outputs": [
        {
          "output_type": "execute_result",
          "data": {
            "text/plain": [
              "<matplotlib.image.AxesImage at 0x7f3ee4b27ad0>"
            ]
          },
          "metadata": {},
          "execution_count": 32
        },
        {
          "output_type": "display_data",
          "data": {
            "image/png": "[encoded data removed]",
            "text/plain": [
              "<Figure size 432x288 with 1 Axes>"
            ]
          },
          "metadata": {
            "needs_background": "light"
          }
        }
      ]
    },
    {
      "cell_type": "code",
      "metadata": {
        "colab": {
          "base_uri": "https://localhost:8080/"
        },
        "id": "NmCeQgseMRQG",
        "outputId": "ea0d4a7f-54b0-462b-c2c6-0c371f22836a"
      },
      "source": [
        "recognise(X_test[389])"
      ],
      "execution_count": null,
      "outputs": [
        {
          "output_type": "execute_result",
          "data": {
            "text/plain": [
              "9"
            ]
          },
          "metadata": {},
          "execution_count": 34
        }
      ]
    },
    {
      "cell_type": "code",
      "metadata": {
        "id": "1YFgbLDRMv6m"
      },
      "source": [
        ""
      ],
      "execution_count": null,
      "outputs": []
    },
    {
      "cell_type": "code",
      "metadata": {
        "id": "K5IB3npnNmM3"
      },
      "source": [
        ""
      ],
      "execution_count": null,
      "outputs": []
    }
  ]
}